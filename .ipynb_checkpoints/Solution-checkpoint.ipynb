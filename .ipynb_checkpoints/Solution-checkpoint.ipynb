{
 "cells": [
  {
   "cell_type": "markdown",
   "metadata": {},
   "source": [
    "# Introduction to Recurrent Neural Networks (RNNs)\n",
    "\n",
    "## Learning stock embeddings for price movement classification using bidirectional RNNs"
   ]
  },
  {
   "cell_type": "code",
   "execution_count": 9,
   "metadata": {},
   "outputs": [],
   "source": [
    "#Import dependencies\n",
    "import numpy as np\n",
    "import pandas as pd\n",
    "import matplotlib.pyplot as plt\n",
    "import tensorflow as tf\n",
    "from sklearn.model_selection import train_test_split"
   ]
  },
  {
   "cell_type": "markdown",
   "metadata": {},
   "source": [
    "## Recurrent Neural Networks (RNNs) - An intro to sequence classification, and an aside on LSTMs"
   ]
  },
  {
   "cell_type": "markdown",
   "metadata": {},
   "source": [
    "To get you started, we look at a simple example built specifically for RNNs - digit sequence classification. We define the problem as follows: assume you are an airline company running baggage checks at the airport. The maximum total baggaged weight allowed for the flight is 1570 pounds. We classify a baggage weight with label 0 if the cumulative sum so far is lesser than the threshold, and 1 if it goes above the threshold. Also assume that the length of all sequences is 35. For example:\n",
    "\n",
    "Sequence: 500, 500, 500, 327, 294, 102, ...  \n",
    "Labels  : 0  , 0  , 0  , 1  , 1  , 1, ...\n"
   ]
  },
  {
   "cell_type": "markdown",
   "metadata": {},
   "source": [
    "### Data Generation"
   ]
  },
  {
   "cell_type": "markdown",
   "metadata": {},
   "source": [
    "Generate sequence data using the functions defined below:"
   ]
  },
  {
   "cell_type": "code",
   "execution_count": 31,
   "metadata": {},
   "outputs": [],
   "source": [
    "baggage_threshold = 1570\n",
    "sequence_len = 35\n",
    "\n",
    "def generate_sequence(sequence_len):\n",
    "    data = np.random.choice(521, sequence_len) #generate random ints in the given range\n",
    "    labels = np.array([0 if np.sum(data[: i+1]) <= 1570 else 1 for i in range(len(data))])\n",
    "    \n",
    "    return data, labels\n",
    "\n",
    "#construct data matrix X and labels y\n",
    "\n",
    "X = np.zeros((1000, 35))\n",
    "y = np.zeros((1000, 35))\n",
    "\n",
    "for row in range(X.shape[0]): \n",
    "    x_gen, y_gen = generate_sequence(sequence_len)\n",
    "    X[row, :] = x_gen\n",
    "    y[row, :] = y_gen\n",
    "    \n",
    "#split into training and testing data using an 80/20 split\n",
    "X_train, X_test, y_train, y_test = train_test_split(X, y, test_size=0.2)\n"
   ]
  },
  {
   "cell_type": "markdown",
   "metadata": {},
   "source": [
    "### Models"
   ]
  },
  {
   "cell_type": "markdown",
   "metadata": {},
   "source": [
    "Now, we train a simple RNN to classify our data! Here is some starter code to help you out:"
   ]
  },
  {
   "cell_type": "code",
   "execution_count": 57,
   "metadata": {},
   "outputs": [],
   "source": [
    "from keras.layers import SimpleRNN, LSTM, Bidirectional, TimeDistributed, Dense\n",
    "from keras.models import Sequential\n",
    "\n",
    "model = Sequential()\n",
    "model.add(SimpleRNN(20, input_shape = (35, 1), return_sequences = True))\n",
    "model.add(TimeDistributed(Dense(1, activation='sigmoid')))\n",
    "model.compile(loss='binary_crossentropy', optimizer='adam', metrics = ['accuracy'])\n",
    "\n",
    "for row in range(len(X_train)): \n",
    "    curr_x = X_train[row]\n",
    "    curr_y = y_train[row]\n",
    "    \n",
    "    X = curr_x.reshape(1, sequence_len, 1)\n",
    "    y = curr_y.reshape(1, sequence_len, 1)\n",
    "    \n",
    "    model.fit(X, y, verbose = False)"
   ]
  },
  {
   "cell_type": "markdown",
   "metadata": {},
   "source": [
    "Now, let's check our model accuracy on the test set: "
   ]
  },
  {
   "cell_type": "code",
   "execution_count": 58,
   "metadata": {},
   "outputs": [
    {
     "name": "stdout",
     "output_type": "stream",
     "text": [
      "7/7 [==============================] - 0s 2ms/step - loss: 0.4473 - accuracy: 0.8354\n"
     ]
    },
    {
     "data": {
      "text/plain": [
       "[0.44730135798454285, 0.8354285955429077]"
      ]
     },
     "execution_count": 58,
     "metadata": {},
     "output_type": "execute_result"
    }
   ],
   "source": [
    "model.evaluate(X_test.reshape(200, 35, 1), y_test.reshape(200, 35, 1))"
   ]
  },
  {
   "cell_type": "markdown",
   "metadata": {},
   "source": [
    "Not bad! Let's see if we can do better using LSTMs (a form of RNNs, refer to the note for more details) - make a new model that uses an LSTM layer instead of a simple RNN. Notice that it makes sense to use LSTMs here because we would like our model to remember earlier baggage weights to classify future baggage weights in the sequence."
   ]
  },
  {
   "cell_type": "code",
   "execution_count": 59,
   "metadata": {},
   "outputs": [],
   "source": [
    "model = Sequential()\n",
    "model.add(LSTM(20, input_shape = (35, 1), return_sequences = True))\n",
    "model.add(TimeDistributed(Dense(1, activation='sigmoid')))\n",
    "model.compile(loss='binary_crossentropy', optimizer='adam', metrics = ['accuracy'])\n",
    "\n",
    "for row in range(len(X_train)): \n",
    "    curr_x = X_train[row]\n",
    "    curr_y = y_train[row]\n",
    "    \n",
    "    X = curr_x.reshape(1, sequence_len, 1)\n",
    "    y = curr_y.reshape(1, sequence_len, 1)\n",
    "    \n",
    "    model.fit(X, y, verbose = False)"
   ]
  },
  {
   "cell_type": "code",
   "execution_count": 60,
   "metadata": {
    "scrolled": true
   },
   "outputs": [
    {
     "name": "stdout",
     "output_type": "stream",
     "text": [
      "7/7 [==============================] - 0s 3ms/step - loss: 0.2190 - accuracy: 0.9210\n"
     ]
    },
    {
     "data": {
      "text/plain": [
       "[0.21904617547988892, 0.9210000038146973]"
      ]
     },
     "execution_count": 60,
     "metadata": {},
     "output_type": "execute_result"
    }
   ],
   "source": [
    "model.evaluate(X_test.reshape(200, 35, 1), y_test.reshape(200, 35, 1))"
   ]
  },
  {
   "cell_type": "markdown",
   "metadata": {},
   "source": [
    "Even better! Lastly, let's try using a Bidirectional LSTM to classify our sequences. Refer to the note if you would like a refresher on the Bidirectional architecure for RNNs."
   ]
  },
  {
   "cell_type": "code",
   "execution_count": 64,
   "metadata": {},
   "outputs": [],
   "source": [
    "model = Sequential()\n",
    "model.add(Bidirectional(LSTM(20, input_shape = (35, 1), return_sequences = True)))\n",
    "model.add(TimeDistributed(Dense(1, activation='sigmoid')))\n",
    "model.compile(loss='binary_crossentropy', optimizer='adam', metrics = ['accuracy'])\n",
    "\n",
    "for row in range(len(X_train)): \n",
    "    curr_x = X_train[row]\n",
    "    curr_y = y_train[row]\n",
    "    \n",
    "    X = curr_x.reshape(1, sequence_len, 1)\n",
    "    y = curr_y.reshape(1, sequence_len, 1)\n",
    "    \n",
    "    model.fit(X, y, verbose = False)"
   ]
  },
  {
   "cell_type": "code",
   "execution_count": 65,
   "metadata": {},
   "outputs": [
    {
     "name": "stdout",
     "output_type": "stream",
     "text": [
      "7/7 [==============================] - 0s 3ms/step - loss: 0.1048 - accuracy: 0.9774\n"
     ]
    },
    {
     "data": {
      "text/plain": [
       "[0.10479364544153214, 0.9774285554885864]"
      ]
     },
     "execution_count": 65,
     "metadata": {},
     "output_type": "execute_result"
    }
   ],
   "source": [
    "model.evaluate(X_test.reshape(200, 35, 1), y_test.reshape(200, 35, 1))"
   ]
  },
  {
   "cell_type": "markdown",
   "metadata": {},
   "source": [
    "Almost perfect accuracy! While this example was specifically desgined to make RNNs and LSTMs shine, we hope this gives you an appreciation for the kinds of problems we can solve using Recurrent Networks, and how improvements can be made to the simple RNN architecture. Now, we will try to use RNNs to tackle a much harder problem - stock price classification!"
   ]
  },
  {
   "cell_type": "markdown",
   "metadata": {},
   "source": [
    "## Using Bi-GRUs for price movement classification"
   ]
  },
  {
   "cell_type": "markdown",
   "metadata": {},
   "source": [
    "For the purposes of this assignment, we will focus on training a classifier for stocks from the S&P 500. The goal of our classifier is as follows:\n",
    "We are interested in training a bidirectional RNN model that learns a relationship between news taglines related to the stocks $\\{l_i\\}$ that we have selected and the prices of those stocks. Define $p_i^{(t)}$ to be the price of stock $l_i$ on day $t$. Then, we can formally define our objective as follows:\n",
    "\n",
    "Let $y_i^{(t)} = \\begin{cases} 1 & p_i^{(t)} \\geq p_i^{(t - 1)} \\\\ 0 & p_i^{(t)} < p_i^{(t - 1)} \\end{cases}$. Suppose our dataset $D = \\{N^{(t)}\\}_{t_{in} \\leq t \\leq t_f}$, where $N^{(t)}$ is a collection of all the articles from day $t$ and $t_{in}$ and $t_f$ represent the dates of the earliest and latest articles in our dataset resepctively. Then, we want to learn a mapping $\\hat y_i^{(t)} = f(N^{(t - \\mu)} \\cup \\ldots \\cup N^{(t)})$ such that $\\hat y_i^{(t)}$ accurately predicts $y_i^{(t)}$. More specifically, as is often the case with classification problems, we want to minimize the loss function given by the mean time-series cross-entropy loss:\n",
    "$$\\mathcal{L}_i = \\frac{-1}{t_f - t_{in}} \\sum_{t = t_{in}}^{t_f} \\big(y_i^{(t)} \\log \\hat y_i^{(t)} + (1 - y_i^{(t)}) \\log (1 - \\hat y_i^{(t)}\\big)$$\n",
    "Here, we choose to use $\\mu = 4$, so we aim to classify the price movement of stock $l_i$ on day $t$, given by $p_i^{(t)}$, using news information from days $[t-4, t]$, i.e., articles $\\{N^{(t - 4)}, N^{(t - 3)}, N^{(t - 2)}, N^{(t - 1)}, N^{(t)}\\}$. Notice that we are including information from day $t$, so we are not *predicting* the price movement but rather identifying a relationship between the stock price movement and the information contained in the news taglines from day $t$ and the previous 4 days."
   ]
  },
  {
   "cell_type": "markdown",
   "metadata": {},
   "source": [
    "## Generating word embeddings"
   ]
  },
  {
   "cell_type": "markdown",
   "metadata": {},
   "source": [
    "The code below loads word embeddings that we have pre-generated for 15 stocks from the S&P 500. We used news tagline data from Reuters (data sourced from https://github.com/vedic-partap/Event-Driven-Stock-Prediction-using-Deep-Learning/blob/master/input/news_reuters.csv) to create word embeddings for all of the articles in our dataset using a pretrained Spacy encoder and a Word2Vec model that we trained on our data (don't worry if you don't know what this means yet). Our dataset contains news articles from 2011 to 2017 so we should have enough data to build a fairly accurate classifier. You will explore algorithms for generating word embeddings in more detail later in the course but for this assignment, we have done the work for you so that you can focus on building RNN models for your stock movement classifier.\n",
    "\n",
    "For the purposes of our classifier, we are focusing on the 15 stocks from the Reuters dataset for which we have the most data, i.e., news articles.\n",
    "\n",
    "<br>\n",
    "\n",
    "The main idea is to convert all of the qualitative textual information that we have in each article tagline into a quantitative feature that we can use when training our classifier. Let $s_i \\in \\mathbb{R}^{64}$ represent the stock embedding that we are trying to learn for stock $l_i$. We then define the following quantities:\n",
    "\n",
    "Let $n_i^{(t)}$ be a news article from day $t$, for some $1 \\leq i \\leq |N^{(t)}|$. We associate an embedding vector $K_i^{(t)} \\in \\mathbb{R}^{64}$ with each article $n_i^{(t)}$, which we have computed for you below."
   ]
  },
  {
   "cell_type": "code",
   "execution_count": 103,
   "metadata": {},
   "outputs": [
    {
     "data": {
      "text/html": [
       "<div>\n",
       "<style scoped>\n",
       "    .dataframe tbody tr th:only-of-type {\n",
       "        vertical-align: middle;\n",
       "    }\n",
       "\n",
       "    .dataframe tbody tr th {\n",
       "        vertical-align: top;\n",
       "    }\n",
       "\n",
       "    .dataframe thead th {\n",
       "        text-align: right;\n",
       "    }\n",
       "</style>\n",
       "<table border=\"1\" class=\"dataframe\">\n",
       "  <thead>\n",
       "    <tr style=\"text-align: right;\">\n",
       "      <th></th>\n",
       "      <th>Date</th>\n",
       "      <th>Ticker</th>\n",
       "      <th>Headline</th>\n",
       "      <th>Tagline</th>\n",
       "      <th>K0</th>\n",
       "      <th>K1</th>\n",
       "      <th>K2</th>\n",
       "      <th>K3</th>\n",
       "      <th>K4</th>\n",
       "      <th>K5</th>\n",
       "      <th>...</th>\n",
       "      <th>K54</th>\n",
       "      <th>K55</th>\n",
       "      <th>K56</th>\n",
       "      <th>K57</th>\n",
       "      <th>K58</th>\n",
       "      <th>K59</th>\n",
       "      <th>K60</th>\n",
       "      <th>K61</th>\n",
       "      <th>K62</th>\n",
       "      <th>K63</th>\n",
       "    </tr>\n",
       "  </thead>\n",
       "  <tbody>\n",
       "    <tr>\n",
       "      <th>0</th>\n",
       "      <td>20140414</td>\n",
       "      <td>AAPL</td>\n",
       "      <td>Apple antitrust compliance off to a promising ...</td>\n",
       "      <td>NEW YORK Apple Inc has made a \"promising start...</td>\n",
       "      <td>0.728133</td>\n",
       "      <td>0.074376</td>\n",
       "      <td>-0.844244</td>\n",
       "      <td>0.386816</td>\n",
       "      <td>-0.101627</td>\n",
       "      <td>0.965676</td>\n",
       "      <td>...</td>\n",
       "      <td>-0.894744</td>\n",
       "      <td>-1.209550</td>\n",
       "      <td>0.022297</td>\n",
       "      <td>0.721769</td>\n",
       "      <td>-1.181336</td>\n",
       "      <td>-0.527883</td>\n",
       "      <td>0.618779</td>\n",
       "      <td>-0.460661</td>\n",
       "      <td>-0.654457</td>\n",
       "      <td>0.347296</td>\n",
       "    </tr>\n",
       "    <tr>\n",
       "      <th>1</th>\n",
       "      <td>20140414</td>\n",
       "      <td>AAPL</td>\n",
       "      <td>Apple antitrust compliance off to a promising ...</td>\n",
       "      <td>NEW YORK  April 14 Apple Inc has made a \"promi...</td>\n",
       "      <td>0.757790</td>\n",
       "      <td>0.111567</td>\n",
       "      <td>-0.802569</td>\n",
       "      <td>0.333254</td>\n",
       "      <td>-0.060955</td>\n",
       "      <td>0.996661</td>\n",
       "      <td>...</td>\n",
       "      <td>-0.782604</td>\n",
       "      <td>-1.193472</td>\n",
       "      <td>-0.040548</td>\n",
       "      <td>0.738943</td>\n",
       "      <td>-1.186327</td>\n",
       "      <td>-0.449470</td>\n",
       "      <td>0.506322</td>\n",
       "      <td>-0.397205</td>\n",
       "      <td>-0.607989</td>\n",
       "      <td>0.462105</td>\n",
       "    </tr>\n",
       "    <tr>\n",
       "      <th>2</th>\n",
       "      <td>20140414</td>\n",
       "      <td>AAPL</td>\n",
       "      <td>COLUMN-How to avoid the trouble coming to the ...</td>\n",
       "      <td>(The opinions expressed here are those of the ...</td>\n",
       "      <td>-0.624152</td>\n",
       "      <td>-0.346050</td>\n",
       "      <td>-1.487509</td>\n",
       "      <td>1.194646</td>\n",
       "      <td>0.050459</td>\n",
       "      <td>0.602637</td>\n",
       "      <td>...</td>\n",
       "      <td>0.091208</td>\n",
       "      <td>-0.098015</td>\n",
       "      <td>-1.472723</td>\n",
       "      <td>0.380068</td>\n",
       "      <td>-1.273030</td>\n",
       "      <td>-0.143687</td>\n",
       "      <td>-0.026395</td>\n",
       "      <td>-0.532428</td>\n",
       "      <td>0.985156</td>\n",
       "      <td>-0.734174</td>\n",
       "    </tr>\n",
       "    <tr>\n",
       "      <th>3</th>\n",
       "      <td>20140414</td>\n",
       "      <td>AAPL</td>\n",
       "      <td>How to avoid the trouble coming to the tech se...</td>\n",
       "      <td>CHICAGO A resounding shot across the bow has b...</td>\n",
       "      <td>0.387120</td>\n",
       "      <td>-0.099557</td>\n",
       "      <td>-0.590867</td>\n",
       "      <td>-0.532860</td>\n",
       "      <td>0.078823</td>\n",
       "      <td>0.575159</td>\n",
       "      <td>...</td>\n",
       "      <td>-0.222005</td>\n",
       "      <td>-1.005797</td>\n",
       "      <td>-0.873272</td>\n",
       "      <td>1.010729</td>\n",
       "      <td>-1.111801</td>\n",
       "      <td>0.090758</td>\n",
       "      <td>-0.138770</td>\n",
       "      <td>0.328208</td>\n",
       "      <td>-0.856174</td>\n",
       "      <td>-0.269537</td>\n",
       "    </tr>\n",
       "    <tr>\n",
       "      <th>4</th>\n",
       "      <td>20140415</td>\n",
       "      <td>AAPL</td>\n",
       "      <td>Apple cannot escape U.S. states' e-book antitr...</td>\n",
       "      <td>NEW YORK Apple Inc on Tuesday lost an attempt ...</td>\n",
       "      <td>0.824634</td>\n",
       "      <td>-1.637257</td>\n",
       "      <td>-0.352775</td>\n",
       "      <td>-0.604853</td>\n",
       "      <td>-0.010361</td>\n",
       "      <td>0.771431</td>\n",
       "      <td>...</td>\n",
       "      <td>-0.158041</td>\n",
       "      <td>-1.782186</td>\n",
       "      <td>-0.321180</td>\n",
       "      <td>0.213456</td>\n",
       "      <td>-0.865087</td>\n",
       "      <td>0.074308</td>\n",
       "      <td>0.301620</td>\n",
       "      <td>0.198198</td>\n",
       "      <td>-0.107721</td>\n",
       "      <td>0.127805</td>\n",
       "    </tr>\n",
       "    <tr>\n",
       "      <th>...</th>\n",
       "      <td>...</td>\n",
       "      <td>...</td>\n",
       "      <td>...</td>\n",
       "      <td>...</td>\n",
       "      <td>...</td>\n",
       "      <td>...</td>\n",
       "      <td>...</td>\n",
       "      <td>...</td>\n",
       "      <td>...</td>\n",
       "      <td>...</td>\n",
       "      <td>...</td>\n",
       "      <td>...</td>\n",
       "      <td>...</td>\n",
       "      <td>...</td>\n",
       "      <td>...</td>\n",
       "      <td>...</td>\n",
       "      <td>...</td>\n",
       "      <td>...</td>\n",
       "      <td>...</td>\n",
       "      <td>...</td>\n",
       "      <td>...</td>\n",
       "    </tr>\n",
       "    <tr>\n",
       "      <th>50787</th>\n",
       "      <td>20170209</td>\n",
       "      <td>TAPR</td>\n",
       "      <td>BRIEF-Ultra Petroleum says Barclays agreed to ...</td>\n",
       "      <td>* Ultra Petroleum- on Feb 8  in connection wit...</td>\n",
       "      <td>1.139437</td>\n",
       "      <td>0.682006</td>\n",
       "      <td>0.029171</td>\n",
       "      <td>-0.304725</td>\n",
       "      <td>-0.776514</td>\n",
       "      <td>0.983443</td>\n",
       "      <td>...</td>\n",
       "      <td>-0.477868</td>\n",
       "      <td>-1.729272</td>\n",
       "      <td>0.025326</td>\n",
       "      <td>0.869954</td>\n",
       "      <td>-0.348191</td>\n",
       "      <td>-0.362264</td>\n",
       "      <td>0.413104</td>\n",
       "      <td>-0.154671</td>\n",
       "      <td>0.886414</td>\n",
       "      <td>0.782220</td>\n",
       "    </tr>\n",
       "    <tr>\n",
       "      <th>50788</th>\n",
       "      <td>20170209</td>\n",
       "      <td>TAPR</td>\n",
       "      <td>MOVES-Barclays  Nasdaq  RenCap  AXA  BC Partners</td>\n",
       "      <td>Feb 9 The following financial services industr...</td>\n",
       "      <td>1.017802</td>\n",
       "      <td>-0.165982</td>\n",
       "      <td>-0.467275</td>\n",
       "      <td>1.028413</td>\n",
       "      <td>0.571217</td>\n",
       "      <td>0.251248</td>\n",
       "      <td>...</td>\n",
       "      <td>0.389808</td>\n",
       "      <td>-0.710198</td>\n",
       "      <td>-0.832409</td>\n",
       "      <td>-0.209801</td>\n",
       "      <td>-1.864952</td>\n",
       "      <td>1.237639</td>\n",
       "      <td>1.087065</td>\n",
       "      <td>-1.006863</td>\n",
       "      <td>0.256364</td>\n",
       "      <td>-0.714636</td>\n",
       "    </tr>\n",
       "    <tr>\n",
       "      <th>50789</th>\n",
       "      <td>20170217</td>\n",
       "      <td>TAPR</td>\n",
       "      <td>Barclays  Citi gave South Africa watchdog info...</td>\n",
       "      <td>JOHANNESBURG  Feb 17 Barclays Plc and Citigrou...</td>\n",
       "      <td>1.044449</td>\n",
       "      <td>-0.042930</td>\n",
       "      <td>0.201579</td>\n",
       "      <td>0.368795</td>\n",
       "      <td>0.163013</td>\n",
       "      <td>0.535172</td>\n",
       "      <td>...</td>\n",
       "      <td>-0.989387</td>\n",
       "      <td>-1.056570</td>\n",
       "      <td>-0.652724</td>\n",
       "      <td>0.302391</td>\n",
       "      <td>-0.539873</td>\n",
       "      <td>-0.171629</td>\n",
       "      <td>0.472612</td>\n",
       "      <td>0.625271</td>\n",
       "      <td>0.184726</td>\n",
       "      <td>0.232111</td>\n",
       "    </tr>\n",
       "    <tr>\n",
       "      <th>50790</th>\n",
       "      <td>20170217</td>\n",
       "      <td>TAPR</td>\n",
       "      <td>Barclays  Citi helped South Africa with forex ...</td>\n",
       "      <td>JOHANNESBURG Barclays Plc  and Citigroup  appr...</td>\n",
       "      <td>1.288937</td>\n",
       "      <td>-0.372697</td>\n",
       "      <td>0.197727</td>\n",
       "      <td>0.622883</td>\n",
       "      <td>0.022204</td>\n",
       "      <td>0.923629</td>\n",
       "      <td>...</td>\n",
       "      <td>-1.169927</td>\n",
       "      <td>-1.494177</td>\n",
       "      <td>-0.431977</td>\n",
       "      <td>0.928176</td>\n",
       "      <td>-0.336484</td>\n",
       "      <td>-0.262020</td>\n",
       "      <td>0.443658</td>\n",
       "      <td>0.316990</td>\n",
       "      <td>-0.013611</td>\n",
       "      <td>-0.358849</td>\n",
       "    </tr>\n",
       "    <tr>\n",
       "      <th>50791</th>\n",
       "      <td>20170217</td>\n",
       "      <td>TAPR</td>\n",
       "      <td>UPDATE 1-Barclays  Citi helped South Africa wi...</td>\n",
       "      <td>JOHANNESBURG  Feb 17 Barclays Plc and Citigrou...</td>\n",
       "      <td>1.336899</td>\n",
       "      <td>-0.299033</td>\n",
       "      <td>0.236128</td>\n",
       "      <td>0.518854</td>\n",
       "      <td>0.087610</td>\n",
       "      <td>0.961209</td>\n",
       "      <td>...</td>\n",
       "      <td>-0.987863</td>\n",
       "      <td>-1.449502</td>\n",
       "      <td>-0.503987</td>\n",
       "      <td>0.913419</td>\n",
       "      <td>-0.365706</td>\n",
       "      <td>-0.153608</td>\n",
       "      <td>0.294536</td>\n",
       "      <td>0.390793</td>\n",
       "      <td>0.018873</td>\n",
       "      <td>-0.172850</td>\n",
       "    </tr>\n",
       "  </tbody>\n",
       "</table>\n",
       "<p>50792 rows × 68 columns</p>\n",
       "</div>"
      ],
      "text/plain": [
       "           Date Ticker                                           Headline  \\\n",
       "0      20140414   AAPL  Apple antitrust compliance off to a promising ...   \n",
       "1      20140414   AAPL  Apple antitrust compliance off to a promising ...   \n",
       "2      20140414   AAPL  COLUMN-How to avoid the trouble coming to the ...   \n",
       "3      20140414   AAPL  How to avoid the trouble coming to the tech se...   \n",
       "4      20140415   AAPL  Apple cannot escape U.S. states' e-book antitr...   \n",
       "...         ...    ...                                                ...   \n",
       "50787  20170209   TAPR  BRIEF-Ultra Petroleum says Barclays agreed to ...   \n",
       "50788  20170209   TAPR  MOVES-Barclays  Nasdaq  RenCap  AXA  BC Partners    \n",
       "50789  20170217   TAPR  Barclays  Citi gave South Africa watchdog info...   \n",
       "50790  20170217   TAPR  Barclays  Citi helped South Africa with forex ...   \n",
       "50791  20170217   TAPR  UPDATE 1-Barclays  Citi helped South Africa wi...   \n",
       "\n",
       "                                                 Tagline        K0        K1  \\\n",
       "0      NEW YORK Apple Inc has made a \"promising start...  0.728133  0.074376   \n",
       "1      NEW YORK  April 14 Apple Inc has made a \"promi...  0.757790  0.111567   \n",
       "2      (The opinions expressed here are those of the ... -0.624152 -0.346050   \n",
       "3      CHICAGO A resounding shot across the bow has b...  0.387120 -0.099557   \n",
       "4      NEW YORK Apple Inc on Tuesday lost an attempt ...  0.824634 -1.637257   \n",
       "...                                                  ...       ...       ...   \n",
       "50787  * Ultra Petroleum- on Feb 8  in connection wit...  1.139437  0.682006   \n",
       "50788  Feb 9 The following financial services industr...  1.017802 -0.165982   \n",
       "50789  JOHANNESBURG  Feb 17 Barclays Plc and Citigrou...  1.044449 -0.042930   \n",
       "50790  JOHANNESBURG Barclays Plc  and Citigroup  appr...  1.288937 -0.372697   \n",
       "50791  JOHANNESBURG  Feb 17 Barclays Plc and Citigrou...  1.336899 -0.299033   \n",
       "\n",
       "             K2        K3        K4        K5  ...       K54       K55  \\\n",
       "0     -0.844244  0.386816 -0.101627  0.965676  ... -0.894744 -1.209550   \n",
       "1     -0.802569  0.333254 -0.060955  0.996661  ... -0.782604 -1.193472   \n",
       "2     -1.487509  1.194646  0.050459  0.602637  ...  0.091208 -0.098015   \n",
       "3     -0.590867 -0.532860  0.078823  0.575159  ... -0.222005 -1.005797   \n",
       "4     -0.352775 -0.604853 -0.010361  0.771431  ... -0.158041 -1.782186   \n",
       "...         ...       ...       ...       ...  ...       ...       ...   \n",
       "50787  0.029171 -0.304725 -0.776514  0.983443  ... -0.477868 -1.729272   \n",
       "50788 -0.467275  1.028413  0.571217  0.251248  ...  0.389808 -0.710198   \n",
       "50789  0.201579  0.368795  0.163013  0.535172  ... -0.989387 -1.056570   \n",
       "50790  0.197727  0.622883  0.022204  0.923629  ... -1.169927 -1.494177   \n",
       "50791  0.236128  0.518854  0.087610  0.961209  ... -0.987863 -1.449502   \n",
       "\n",
       "            K56       K57       K58       K59       K60       K61       K62  \\\n",
       "0      0.022297  0.721769 -1.181336 -0.527883  0.618779 -0.460661 -0.654457   \n",
       "1     -0.040548  0.738943 -1.186327 -0.449470  0.506322 -0.397205 -0.607989   \n",
       "2     -1.472723  0.380068 -1.273030 -0.143687 -0.026395 -0.532428  0.985156   \n",
       "3     -0.873272  1.010729 -1.111801  0.090758 -0.138770  0.328208 -0.856174   \n",
       "4     -0.321180  0.213456 -0.865087  0.074308  0.301620  0.198198 -0.107721   \n",
       "...         ...       ...       ...       ...       ...       ...       ...   \n",
       "50787  0.025326  0.869954 -0.348191 -0.362264  0.413104 -0.154671  0.886414   \n",
       "50788 -0.832409 -0.209801 -1.864952  1.237639  1.087065 -1.006863  0.256364   \n",
       "50789 -0.652724  0.302391 -0.539873 -0.171629  0.472612  0.625271  0.184726   \n",
       "50790 -0.431977  0.928176 -0.336484 -0.262020  0.443658  0.316990 -0.013611   \n",
       "50791 -0.503987  0.913419 -0.365706 -0.153608  0.294536  0.390793  0.018873   \n",
       "\n",
       "            K63  \n",
       "0      0.347296  \n",
       "1      0.462105  \n",
       "2     -0.734174  \n",
       "3     -0.269537  \n",
       "4      0.127805  \n",
       "...         ...  \n",
       "50787  0.782220  \n",
       "50788 -0.714636  \n",
       "50789  0.232111  \n",
       "50790 -0.358849  \n",
       "50791 -0.172850  \n",
       "\n",
       "[50792 rows x 68 columns]"
      ]
     },
     "execution_count": 103,
     "metadata": {},
     "output_type": "execute_result"
    }
   ],
   "source": [
    "data = pd.read_csv(\"embeddings.csv\")\n",
    "cols_to_include = [\"Date\", \"Ticker\", \"Headline\", \"Tagline\"] + [\"K{}\".format(i) for i in range(64)]\n",
    "data = data[cols_to_include]\n",
    "data"
   ]
  },
  {
   "cell_type": "markdown",
   "metadata": {},
   "source": [
    "Here, each row represents a different news article and is associated with one of the top 15 stocks that we are interested in for our classifier: <br>\n",
    "`['AAPL', 'AMZN', 'BA', 'BCS', 'BP', 'C', 'DB', 'GM', 'GS', 'HSEA', 'HSEB', 'JPM', 'MSFT', 'MS', 'TAPR']`.\n",
    "\n",
    "Additionally, the columns `[K0, ..., K63]` represent the components of the $K_i^{(t)}$ embedding vector for each article $n_i^{(t)}$."
   ]
  },
  {
   "cell_type": "markdown",
   "metadata": {},
   "source": [
    "## Building a Bi-GRU price movement classifier"
   ]
  },
  {
   "cell_type": "markdown",
   "metadata": {},
   "source": [
    "We define $score(n_i^{(t)}, s_j) = K_i^{(t)} \\cdot s_j$ and the softmax variable $$\\alpha_i^{(t)} = \\frac{\\exp(score(n_i^{(t)}, s_j))}{\\sum_{n_k^{(t)} \\in N^{(t)}}exp(score(n_k^{(t)}, s_j))}$$\n",
    "\n",
    "Finally, we define the market status of stock $l_j$ on day $t$, given by $m_j^{(t)} = \\sum_{n_i^{(t)} \\in N^{(t)}} \\alpha_i^{(t)} V_i^{(t)}$. This is the input to the classifier that you will build and train on the dataset to learn the stock embeddings $\\{s_j\\}$."
   ]
  },
  {
   "cell_type": "markdown",
   "metadata": {},
   "source": [
    "Here, we will go through the process of building, training, and tuning our model for a single stock. After this is done, we can easily repeat the process for other stocks."
   ]
  },
  {
   "cell_type": "markdown",
   "metadata": {},
   "source": [
    "### 1) a) Data processing"
   ]
  },
  {
   "cell_type": "code",
   "execution_count": 3,
   "metadata": {},
   "outputs": [
    {
     "data": {
      "text/plain": [
       "6674"
      ]
     },
     "execution_count": 3,
     "metadata": {},
     "output_type": "execute_result"
    }
   ],
   "source": [
    "## do it for one stock, AAPL\n",
    "aapl = data[data['Ticker'] == 'AAPL']\n",
    "len(aapl)"
   ]
  },
  {
   "cell_type": "code",
   "execution_count": 4,
   "metadata": {},
   "outputs": [
    {
     "data": {
      "text/plain": [
       "12"
      ]
     },
     "execution_count": 4,
     "metadata": {},
     "output_type": "execute_result"
    }
   ],
   "source": [
    "## set kappa to be max number of articles for a given day\n",
    "kappa = np.max(aapl.groupby('Date').count()['index'])\n",
    "kappa"
   ]
  },
  {
   "cell_type": "code",
   "execution_count": 5,
   "metadata": {},
   "outputs": [],
   "source": [
    "## remove dates that have < 4 articles\n",
    "keep_dates = aapl[\"Date\"].unique()[(aapl.groupby(\"Date\").count()[\"index\"] >= 4)]\n",
    "keep_indices = [aapl.loc[i, \"Date\"] in keep_dates for i in aapl.index]"
   ]
  },
  {
   "cell_type": "code",
   "execution_count": 8,
   "metadata": {},
   "outputs": [],
   "source": [
    "aapl_processed = aapl[keep_indices]"
   ]
  },
  {
   "cell_type": "code",
   "execution_count": 9,
   "metadata": {},
   "outputs": [
    {
     "data": {
      "text/plain": [
       "792"
      ]
     },
     "execution_count": 9,
     "metadata": {},
     "output_type": "execute_result"
    }
   ],
   "source": [
    "sorted_dates  = sorted(aapl_processed['Date'].unique())\n",
    "num_sequences = len(sorted_dates[4:])\n",
    "num_sequences"
   ]
  },
  {
   "cell_type": "code",
   "execution_count": 10,
   "metadata": {},
   "outputs": [],
   "source": [
    "#pad processed df to include kappa entries for each date\n",
    "pd.options.mode.chained_assignment = None\n",
    "\n",
    "padded_aapl_proc = aapl_processed.copy(deep = True)\n",
    "\n",
    "for date in aapl_processed['Date'].unique(): \n",
    "    df_date = aapl_processed[aapl_processed['Date'] == date]\n",
    "    \n",
    "    if len(df_date) <  kappa: \n",
    "        row_append = df_date.head(1)\n",
    "        #change value and key vec to be 0 for appended rows\n",
    "        row_append.iloc[:, row_append.columns.get_loc('K0') : row_append.columns.get_loc('V299') + 1] = 0\n",
    "        \n",
    "        #temp variable to fix annoying pandas append tendencies\n",
    "        temp = padded_aapl_proc\n",
    "        for i in range(kappa - len(df_date)): \n",
    "            temp = temp.append(row_append, ignore_index = True)\n",
    "            \n",
    "        padded_aapl_proc = temp\n",
    "    "
   ]
  },
  {
   "cell_type": "code",
   "execution_count": 11,
   "metadata": {},
   "outputs": [],
   "source": [
    "padded_aapl_proc = padded_aapl_proc.sort_values('Date')"
   ]
  },
  {
   "cell_type": "code",
   "execution_count": 12,
   "metadata": {},
   "outputs": [
    {
     "data": {
      "text/plain": [
       "796.0"
      ]
     },
     "execution_count": 12,
     "metadata": {},
     "output_type": "execute_result"
    }
   ],
   "source": [
    "len(padded_aapl_proc)/12"
   ]
  },
  {
   "cell_type": "markdown",
   "metadata": {},
   "source": [
    "Now that we have processed our data to include only robust inputs, let's do a quick refresher of what your initial input to the neural network is supposed to look like, and what dimensions it will have. Our key vectors for day $t$ are  $K_i^{(t)} \\in \\mathbb{R}^{64}$, and we have at most $\\kappa$ articles per day. Thus, for any given day $t$, we can treat the input as $\\begin{bmatrix} K_1^{(t)} & \\cdots & K_\\kappa^{(t)} \\end{bmatrix} \\in \\mathbb{R}^{64 \\times \\kappa}$. Since our network uses five market vectors ($m^{(t - 4)}, \\ldots, m^{(t)}$) for predicting stock price movement on any given day, we must pass in a sequence of $\\kappa \\cdot 5$ key vectors. \n",
    "\n",
    "So each input looks like $\\begin{bmatrix} K_1^{(t - 4)} & \\cdots & K_\\kappa^{(t - 4)} & \\cdots \\cdots & K_1^{(t)} & \\cdots & K_\\kappa^{(t)} \\end{bmatrix} \\in \\mathbb{R}^{64 \\times 5\\kappa}$. Then, assuming we have $k$ such datapoints (or in our case, $5$ day sequences) in our training dataset, our input is thus:\n",
    "$\\begin{bmatrix} \n",
    "K_1^{(t_1 - 4)} & \\cdots & K_\\kappa^{(t_1 - 4)} & \\cdots \\cdots & K_1^{(t_1)} & \\cdots & K_\\kappa^{(t_1)} \\\\\n",
    "\\vdots & & \\vdots & & \\vdots & & \\vdots \\\\\n",
    "K_1^{(t_k - 4)} & \\cdots & K_\\kappa^{(t_k - 4)} & \\cdots \\cdots & K_1^{(t_k)} & \\cdots & K_\\kappa^{(t_k)}\n",
    "\\end{bmatrix} \\in \\mathbb{R}^{64k \\times 5\\kappa}$\n",
    "where each row represents a different sequence of $5$ days for the stock key vectors."
   ]
  },
  {
   "cell_type": "code",
   "execution_count": 13,
   "metadata": {},
   "outputs": [],
   "source": [
    "k = num_sequences\n",
    "X_in = np.zeros((64*k, 5*kappa))"
   ]
  },
  {
   "cell_type": "code",
   "execution_count": 14,
   "metadata": {},
   "outputs": [],
   "source": [
    "#iterate through rows, step size of 64 to account for size of key vectors\n",
    "for i in range(k): \n",
    "    dates = sorted_dates[i : i + 5]\n",
    "    \n",
    "    #counter to keep track of column index\n",
    "    counter = 0\n",
    "    for date in dates: \n",
    "        df = aapl_processed[aapl_processed['Date'] == date]\n",
    "        sub_mat = np.array(df.iloc[:, df.columns.get_loc('K0') : df.columns.get_loc('K63') + 1]).T\n",
    "        X_in[64 * i : 64 * i + 64, counter : counter + sub_mat.shape[1]] = sub_mat\n",
    "        \n",
    "        #increment by kappa to go to next day in sequence\n",
    "        counter += kappa\n",
    "        \n",
    "    "
   ]
  },
  {
   "cell_type": "code",
   "execution_count": 17,
   "metadata": {},
   "outputs": [
    {
     "data": {
      "text/plain": [
       "array([[ 0.84720065,  1.99831985,  1.19001225, ...,  1.27729124,\n",
       "         0.        ,  0.        ],\n",
       "       [ 0.01052767, -0.82558529, -0.4053802 , ..., -1.03439441,\n",
       "         0.        ,  0.        ],\n",
       "       [-0.99316981, -1.1317625 , -1.35804945, ..., -1.81819254,\n",
       "         0.        ,  0.        ],\n",
       "       ...,\n",
       "       [-0.52824199, -0.17233396,  0.72696523, ...,  0.        ,\n",
       "         0.        ,  0.        ],\n",
       "       [-0.52783575, -0.76645522,  0.28038069, ...,  0.        ,\n",
       "         0.        ,  0.        ],\n",
       "       [ 0.34940266,  0.26867361,  0.95655539, ...,  0.        ,\n",
       "         0.        ,  0.        ]])"
      ]
     },
     "execution_count": 17,
     "metadata": {},
     "output_type": "execute_result"
    }
   ],
   "source": [
    "X_in"
   ]
  },
  {
   "cell_type": "code",
   "execution_count": 16,
   "metadata": {},
   "outputs": [
    {
     "data": {
      "text/plain": [
       "(50688, 60)"
      ]
     },
     "execution_count": 16,
     "metadata": {},
     "output_type": "execute_result"
    }
   ],
   "source": [
    "X_in.shape"
   ]
  },
  {
   "cell_type": "markdown",
   "metadata": {},
   "source": [
    "### 1) b) Generating classifier labels"
   ]
  },
  {
   "cell_type": "markdown",
   "metadata": {},
   "source": [
    "The classifier aims to predict price movement -- in this notebook, we define movement in terms of log returns, the difference in log prices for a given day $t$, and a preceding day, $t-1$. Note that due to the nature of the dataset, we do not have a perfectly contiguous sequence of days, however, we use the next best approximation (i.e. $t-2$, if it is available, in place of $t-1$). Using these log returns, we binarize price movement: if returns are $> 0$ on day $t$, then $y^{(t)} = 1$, else $0$. \n",
    "\n",
    "You can find historical stock price data on http://finance.yahoo.com, and use close prices to calculate log returns.\n",
    "\n",
    "For non-trading days, feel free to use any method to fill in the missing data - we generated labels for missing days by doing a coin toss (while this may seem arbitrary, note that the stock market itself moves in what seems like arbitrarily random directions). "
   ]
  },
  {
   "cell_type": "code",
   "execution_count": 18,
   "metadata": {},
   "outputs": [],
   "source": [
    "prices = pd.read_csv('AAPL.csv')\n",
    "prices['log_returns'] = np.log(prices['Close']) - np.log(prices['Close'].shift(1))"
   ]
  },
  {
   "cell_type": "code",
   "execution_count": 19,
   "metadata": {},
   "outputs": [],
   "source": [
    "#change date format\n",
    "prices['Date'] = prices['Date'].apply(lambda x: int(x.replace('-', '')))"
   ]
  },
  {
   "cell_type": "code",
   "execution_count": 20,
   "metadata": {},
   "outputs": [
    {
     "data": {
      "text/html": [
       "<div>\n",
       "<style scoped>\n",
       "    .dataframe tbody tr th:only-of-type {\n",
       "        vertical-align: middle;\n",
       "    }\n",
       "\n",
       "    .dataframe tbody tr th {\n",
       "        vertical-align: top;\n",
       "    }\n",
       "\n",
       "    .dataframe thead th {\n",
       "        text-align: right;\n",
       "    }\n",
       "</style>\n",
       "<table border=\"1\" class=\"dataframe\">\n",
       "  <thead>\n",
       "    <tr style=\"text-align: right;\">\n",
       "      <th></th>\n",
       "      <th>Date</th>\n",
       "      <th>Open</th>\n",
       "      <th>High</th>\n",
       "      <th>Low</th>\n",
       "      <th>Close</th>\n",
       "      <th>Adj Close</th>\n",
       "      <th>Volume</th>\n",
       "      <th>log_returns</th>\n",
       "    </tr>\n",
       "  </thead>\n",
       "  <tbody>\n",
       "    <tr>\n",
       "      <th>0</th>\n",
       "      <td>20110131</td>\n",
       "      <td>11.992857</td>\n",
       "      <td>12.144286</td>\n",
       "      <td>11.939285</td>\n",
       "      <td>12.118571</td>\n",
       "      <td>10.369199</td>\n",
       "      <td>377246800</td>\n",
       "      <td>NaN</td>\n",
       "    </tr>\n",
       "    <tr>\n",
       "      <th>1</th>\n",
       "      <td>20110201</td>\n",
       "      <td>12.189285</td>\n",
       "      <td>12.344643</td>\n",
       "      <td>12.177857</td>\n",
       "      <td>12.322500</td>\n",
       "      <td>10.543692</td>\n",
       "      <td>426633200</td>\n",
       "      <td>0.016688</td>\n",
       "    </tr>\n",
       "    <tr>\n",
       "      <th>2</th>\n",
       "      <td>20110202</td>\n",
       "      <td>12.301785</td>\n",
       "      <td>12.330358</td>\n",
       "      <td>12.269643</td>\n",
       "      <td>12.297143</td>\n",
       "      <td>10.521996</td>\n",
       "      <td>258955200</td>\n",
       "      <td>-0.002060</td>\n",
       "    </tr>\n",
       "    <tr>\n",
       "      <th>3</th>\n",
       "      <td>20110203</td>\n",
       "      <td>12.278571</td>\n",
       "      <td>12.294286</td>\n",
       "      <td>12.091071</td>\n",
       "      <td>12.265715</td>\n",
       "      <td>10.495105</td>\n",
       "      <td>393797600</td>\n",
       "      <td>-0.002559</td>\n",
       "    </tr>\n",
       "    <tr>\n",
       "      <th>4</th>\n",
       "      <td>20110204</td>\n",
       "      <td>12.272857</td>\n",
       "      <td>12.382143</td>\n",
       "      <td>12.268214</td>\n",
       "      <td>12.375000</td>\n",
       "      <td>10.588613</td>\n",
       "      <td>321840400</td>\n",
       "      <td>0.008870</td>\n",
       "    </tr>\n",
       "  </tbody>\n",
       "</table>\n",
       "</div>"
      ],
      "text/plain": [
       "       Date       Open       High        Low      Close  Adj Close     Volume  \\\n",
       "0  20110131  11.992857  12.144286  11.939285  12.118571  10.369199  377246800   \n",
       "1  20110201  12.189285  12.344643  12.177857  12.322500  10.543692  426633200   \n",
       "2  20110202  12.301785  12.330358  12.269643  12.297143  10.521996  258955200   \n",
       "3  20110203  12.278571  12.294286  12.091071  12.265715  10.495105  393797600   \n",
       "4  20110204  12.272857  12.382143  12.268214  12.375000  10.588613  321840400   \n",
       "\n",
       "   log_returns  \n",
       "0          NaN  \n",
       "1     0.016688  \n",
       "2    -0.002060  \n",
       "3    -0.002559  \n",
       "4     0.008870  "
      ]
     },
     "execution_count": 20,
     "metadata": {},
     "output_type": "execute_result"
    }
   ],
   "source": [
    "prices.head()"
   ]
  },
  {
   "cell_type": "code",
   "execution_count": 21,
   "metadata": {},
   "outputs": [],
   "source": [
    "#generate labels for each of the k sequences for the AAPL stock\n",
    "labels = []\n",
    "for date in sorted_dates[4:]:\n",
    "    log_ret = prices[prices['Date'] == date]['log_returns'].values\n",
    "    \n",
    "    if (len(log_ret) == 0): \n",
    "        labels.append(np.random.choice([1, 0]))\n",
    "        continue\n",
    "    \n",
    "    if (log_ret[0]) > 0: \n",
    "        labels.append(1)\n",
    "    else: \n",
    "        labels.append(0)\n",
    "    "
   ]
  },
  {
   "cell_type": "markdown",
   "metadata": {},
   "source": [
    "### 2) Building the classifier model"
   ]
  },
  {
   "cell_type": "markdown",
   "metadata": {},
   "source": [
    "Before building our main classifier, recall that we need to do some preprocessing to get from our input above to the market vectors that are being used in the classifier. The documentation for tensorflow and Keras will help a lot with some of the manipulations required for this section. In particular, the documentation for `Dense` layers, `GRU` layers, `Activation` layers, `Bidirectional` layers, and `keras.activations.softmax` (which we have imported for you) may be helpful. The outline of the necessary preprocessing steps is as follows:\n",
    "\n",
    "1. We want our input layer to be a tensor with shape $(k, 5, 64 \\kappa)$ <br>\n",
    "See how you can modify `X_in` $= \\begin{bmatrix} \n",
    "K_1^{(t_1 - 4)} & \\cdots & K_\\kappa^{(t_1 - 4)} & \\cdots \\cdots & K_1^{(t_1)} & \\cdots & K_\\kappa^{(t_1)} \\\\\n",
    "\\vdots & & \\vdots & & \\vdots & & \\vdots \\\\\n",
    "K_1^{(t_k - 4)} & \\cdots & K_\\kappa^{(t_k - 4)} & \\cdots \\cdots & K_1^{(t_k)} & \\cdots & K_\\kappa^{(t_k)}\n",
    "\\end{bmatrix} \\in \\mathbb{R}^{64k \\times 5\\kappa}$ from above to achieve this.\n",
    "<br>\n",
    "\n",
    "2. By treating the stock embedding $s$ as a weight from the input layer to the first hidden layer, generate layer 1 of $score$ values of shape $(k, 5, \\kappa)$. We can do this because $score_i^{(t)}$ is defined as $K_i^{(t)} \\cdot s$, which aligns with the way weights act in neural networks. <br>\n",
    "*Hint:* Remember that we use `Dense` layers in Keras to represent a regular feedforward layer. \n",
    "<br>\n",
    "\n",
    "3. Apply softmax activations appropriately to generate layer 2 with the $\\alpha$ values, also of shape $(k, 5, \\kappa)$. <br>\n",
    "*Hint:* Remember, we define $\\alpha_i^{(t)} = \\displaystyle \\frac{\\exp(score_i^{(t)})}{\\sum_{j \\in [\\kappa], j \\neq i}exp(score_j^{(t)})}$. You can also combine this step with the previous one if you wish.\n",
    "<br>\n",
    "\n",
    "4. Now, implement the Bi-GRU classifier model with $1024$ recurrent units. We will experiment with the number of units later when we conduct our hyperparameter tuning. Remember that for each sequence of 5 vectors that we input to the GRU, we are only interested in the prediction for the last one. That is, given $[\\alpha_1^{(t - 4)}, \\ldots, \\alpha_\\kappa^{(t - 4)}], \\ldots, [\\alpha_1^{(t)}, \\ldots, \\alpha_\\kappa^{(t)}]$, we only care about what the GRU predicts for day $t$ since that is the movement that we are trying to classify.\n",
    "<br>\n",
    "\n",
    "5. Finally, apply a dense layer with a sigmoid activation to get a single value $\\hat y^{(t)}$ from the GRU output.\n",
    "<br>\n",
    "\n",
    "6. Train your model for $10$ epochs against the cross-entropy loss and report the train and validation loss after each epoch."
   ]
  },
  {
   "cell_type": "code",
   "execution_count": 54,
   "metadata": {},
   "outputs": [],
   "source": [
    "from keras import backend as K\n",
    "from keras.layers import Activation, Input, Dense, GRU, Bidirectional, Lambda\n",
    "from keras.models import Model\n",
    "from keras.layers.merge import Concatenate\n",
    "from keras.activations import softmax"
   ]
  },
  {
   "cell_type": "markdown",
   "metadata": {},
   "source": [
    "#### Step 1"
   ]
  },
  {
   "cell_type": "code",
   "execution_count": 56,
   "metadata": {},
   "outputs": [],
   "source": [
    "#transform the input X_in from above into an appropriate tensor of shape (k, 5, 64kappa)\n",
    "\n",
    "X_in_mod = np.zeros((k, 5, 64 * kappa))\n",
    "for i in range(k):\n",
    "    for j in range(5):\n",
    "        axis3 = []\n",
    "        for p in range(kappa):\n",
    "            axis3.append(X_in[64 * i : 64 * i + 64, kappa * j + p].reshape((64, 1)))\n",
    "        X_in_mod[i, j, :] = np.vstack(axis3).reshape(64 * kappa)"
   ]
  },
  {
   "cell_type": "code",
   "execution_count": 57,
   "metadata": {},
   "outputs": [],
   "source": [
    "#generate train, test, and validation sets from X_in_mod and labels. Use an 80-10-10 split for train-val-test.\n",
    "\n",
    "X_train, X_val, y_train, y_val = train_test_split(X_in_mod, labels, test_size=0.2)\n",
    "X_val, X_test, y_val, y_test = train_test_split(X_val, y_val, test_size=0.5)"
   ]
  },
  {
   "cell_type": "code",
   "execution_count": 58,
   "metadata": {},
   "outputs": [],
   "source": [
    "#create an input layer of shape (None, 5, 64kappa)\n",
    "x = Input(shape = (X_train.shape[1], X_train.shape[2]), name=\"Input\")"
   ]
  },
  {
   "cell_type": "markdown",
   "metadata": {},
   "source": [
    "#### Step 2 and 3"
   ]
  },
  {
   "cell_type": "code",
   "execution_count": 61,
   "metadata": {},
   "outputs": [],
   "source": [
    "#implement and add layer 1 and layer 2\n",
    "layer1 = Dense(kappa, name=\"Layer1\")(x)\n",
    "layer2 = Activation(softmax, name=\"Softmax\")(layer1)"
   ]
  },
  {
   "cell_type": "markdown",
   "metadata": {},
   "source": [
    "#### Step 4"
   ]
  },
  {
   "cell_type": "code",
   "execution_count": 62,
   "metadata": {},
   "outputs": [],
   "source": [
    "#add a bidirectional GRU with 1024 units\n",
    "bigru = Bidirectional(GRU(1024, activation = 'relu', name=\"Bi-GRU\"))(layer2)"
   ]
  },
  {
   "cell_type": "markdown",
   "metadata": {},
   "source": [
    "#### Step 5"
   ]
  },
  {
   "cell_type": "code",
   "execution_count": 63,
   "metadata": {},
   "outputs": [],
   "source": [
    "#create the output layer\n",
    "pred = Dense(1, activation = 'sigmoid', name=\"Sigmoid\")(bigru)"
   ]
  },
  {
   "cell_type": "markdown",
   "metadata": {},
   "source": [
    "#### Step 6"
   ]
  },
  {
   "cell_type": "code",
   "execution_count": 78,
   "metadata": {},
   "outputs": [
    {
     "name": "stdout",
     "output_type": "stream",
     "text": [
      "Model: \"model_22\"\n",
      "_________________________________________________________________\n",
      "Layer (type)                 Output Shape              Param #   \n",
      "=================================================================\n",
      "Input (InputLayer)           [(None, 5, 768)]          0         \n",
      "_________________________________________________________________\n",
      "Layer1 (Dense)               (None, 5, 12)             9228      \n",
      "_________________________________________________________________\n",
      "activation_1 (Activation)    (None, 5, 12)             0         \n",
      "_________________________________________________________________\n",
      "bidirectional_17 (Bidirectio (None, 2048)              6377472   \n",
      "_________________________________________________________________\n",
      "Sigmoid (Dense)              (None, 1)                 2049      \n",
      "=================================================================\n",
      "Total params: 6,388,749\n",
      "Trainable params: 6,388,749\n",
      "Non-trainable params: 0\n",
      "_________________________________________________________________\n",
      "Epoch 1/10\n",
      "20/20 [==============================] - 2s 93ms/step - loss: 0.0095 - accuracy: 0.9984 - val_loss: 21.1312 - val_accuracy: 0.4430\n",
      "Epoch 2/10\n",
      "20/20 [==============================] - 2s 84ms/step - loss: 0.0488 - accuracy: 0.9889 - val_loss: 17.6932 - val_accuracy: 0.4304\n",
      "Epoch 3/10\n",
      "20/20 [==============================] - 2s 102ms/step - loss: 0.0614 - accuracy: 0.9874 - val_loss: 8.5841 - val_accuracy: 0.4810\n",
      "Epoch 4/10\n",
      "20/20 [==============================] - 2s 97ms/step - loss: 0.0056 - accuracy: 1.0000 - val_loss: 9.9456 - val_accuracy: 0.4430\n",
      "Epoch 5/10\n",
      "20/20 [==============================] - 2s 91ms/step - loss: 0.0042 - accuracy: 0.9984 - val_loss: 8.9747 - val_accuracy: 0.4557\n",
      "Epoch 6/10\n",
      "20/20 [==============================] - 2s 93ms/step - loss: 0.0012 - accuracy: 1.0000 - val_loss: 9.0899 - val_accuracy: 0.4557\n",
      "Epoch 7/10\n",
      "20/20 [==============================] - 2s 94ms/step - loss: 0.0011 - accuracy: 1.0000 - val_loss: 10.1803 - val_accuracy: 0.4430\n",
      "Epoch 8/10\n",
      "20/20 [==============================] - 2s 91ms/step - loss: 3.9256e-04 - accuracy: 1.0000 - val_loss: 10.6315 - val_accuracy: 0.4557\n",
      "Epoch 9/10\n",
      "20/20 [==============================] - 2s 89ms/step - loss: 1.0280e-04 - accuracy: 1.0000 - val_loss: 11.2048 - val_accuracy: 0.4557\n",
      "Epoch 10/10\n",
      "20/20 [==============================] - 2s 99ms/step - loss: 5.7677e-05 - accuracy: 1.0000 - val_loss: 11.4888 - val_accuracy: 0.4557\n"
     ]
    },
    {
     "data": {
      "text/plain": [
       "<tensorflow.python.keras.callbacks.History at 0x7fcb346ee350>"
      ]
     },
     "execution_count": 78,
     "metadata": {},
     "output_type": "execute_result"
    }
   ],
   "source": [
    "#compile and train your model for 10 epochs\n",
    "\n",
    "model = Model(inputs = x, outputs = pred)\n",
    "model.summary()\n",
    "\n",
    "model.compile(optimizer=\"adam\", loss=\"binary_crossentropy\", metrics=[\"accuracy\"])\n",
    "model.fit(X_train, np.array(y_train), epochs=10, verbose=True, validation_data=(X_val, np.array(y_val)))"
   ]
  },
  {
   "cell_type": "markdown",
   "metadata": {},
   "source": [
    "### 3) Hyperparameter tuning"
   ]
  },
  {
   "cell_type": "markdown",
   "metadata": {},
   "source": [
    "In this section, we will treat the number of GRU units and number of training epochs as hyperparameters and attempt to find optimal values for them."
   ]
  },
  {
   "cell_type": "markdown",
   "metadata": {},
   "source": [
    "First, make a plot of the log of train accuracy and validation accuracy against number of epochs for the model that we have built. Also plot the log of train loss and validation loss against number of epochs. Consider number of epochs in the range $[1, 20]$."
   ]
  },
  {
   "cell_type": "code",
   "execution_count": 83,
   "metadata": {},
   "outputs": [
    {
     "data": {
      "image/png": "[encoded data removed]",
      "text/plain": [
       "<Figure size 432x288 with 1 Axes>"
      ]
     },
     "metadata": {
      "needs_background": "light"
     },
     "output_type": "display_data"
    },
    {
     "data": {
      "image/png": "[encoded data removed]",
      "text/plain": [
       "<Figure size 432x288 with 1 Axes>"
      ]
     },
     "metadata": {
      "needs_background": "light"
     },
     "output_type": "display_data"
    }
   ],
   "source": [
    "num_epochs = 20\n",
    "\n",
    "model = Model(inputs = x, outputs = pred)\n",
    "model.compile(optimizer=\"adam\", loss=\"binary_crossentropy\", metrics=[\"accuracy\"])\n",
    "model_history = model.fit(X_train, np.array(y_train), \n",
    "                                   epochs=num_epochs, verbose=False, validation_data=(X_val, np.array(y_val)))\n",
    "    \n",
    "\n",
    "train_losses = model_history.history['loss']\n",
    "val_losses = model_history.history['val_loss']\n",
    "train_accuracies = model_history.history['accuracy']\n",
    "val_accuracies = model_history.history['val_accuracy']\n",
    "\n",
    "plt.figure()\n",
    "plt.title(\"Accuracies vs Epochs\")\n",
    "plt.xlabel(\"Epochs\")\n",
    "plt.ylabel(\"Accuracy\")\n",
    "plt.plot(train_accuracies, label=\"Train\")\n",
    "plt.plot(val_accuracies, label=\"Val\")\n",
    "plt.legend()\n",
    "plt.show()\n",
    "\n",
    "plt.figure()\n",
    "plt.title(\"Losses vs Epochs\")\n",
    "plt.xlabel(\"Epochs\")\n",
    "plt.ylabel(\"Loss\")\n",
    "plt.plot(train_losses, label=\"Train\")\n",
    "plt.plot(val_losses, label=\"Val\")\n",
    "plt.legend()\n",
    "plt.show()"
   ]
  },
  {
   "cell_type": "markdown",
   "metadata": {},
   "source": [
    "Based on these plots, suggest a good value for the number of epochs by filling out the cell below."
   ]
  },
  {
   "cell_type": "code",
   "execution_count": 84,
   "metadata": {},
   "outputs": [],
   "source": [
    "num_epochs = 3"
   ]
  },
  {
   "cell_type": "markdown",
   "metadata": {},
   "source": [
    "Using the optimal value for the number of epochs that you found above, train models with varying numbers of GRU units in the Bi-GRU layer. Make a plot of train accuracy and validation accuracy against number of GRU units and a plot of train loss and validation loss against number of GRU units. Use `[100, 200, 500, 1000, 2000]` as the values for the number of units that you are going to loop over."
   ]
  },
  {
   "cell_type": "code",
   "execution_count": 97,
   "metadata": {},
   "outputs": [
    {
     "data": {
      "image/png": "[encoded data removed]",
      "text/plain": [
       "<Figure size 432x288 with 1 Axes>"
      ]
     },
     "metadata": {
      "needs_background": "light"
     },
     "output_type": "display_data"
    },
    {
     "data": {
      "image/png": "[encoded data removed]",
      "text/plain": [
       "<Figure size 432x288 with 1 Axes>"
      ]
     },
     "metadata": {
      "needs_background": "light"
     },
     "output_type": "display_data"
    }
   ],
   "source": [
    "unit_vals = [100, 200, 500, 1000, 2000]\n",
    "\n",
    "train_losses = []\n",
    "val_losses = []\n",
    "train_accuracies = []\n",
    "val_accuracies = []\n",
    "\n",
    "for v in unit_vals:\n",
    "    x = Input(shape = (X_train.shape[1], X_train.shape[2]), name=\"Input\")\n",
    "    layer1 = Dense(kappa, name=\"Layer1\")(x)\n",
    "    layer2 = Activation(softmax, name=\"Softmax\")(layer1)\n",
    "    bigru = Bidirectional(GRU(v, activation = 'relu', name=\"Bi-GRU\"))(layer2)\n",
    "    pred = Dense(1, activation = 'sigmoid', name=\"Sigmoid\")(bigru)\n",
    "    model = Model(inputs = x, outputs = pred)\n",
    "    model.compile(optimizer=\"adam\", loss=\"binary_crossentropy\", metrics=[\"accuracy\"])\n",
    "    history = model.fit(X_train, np.array(y_train), epochs=num_epochs, \n",
    "                        verbose=False, validation_data=(X_val, np.array(y_val)))\n",
    "    train_losses.append(history.history['loss'][-1])\n",
    "    val_losses.append(history.history['val_loss'][-1])\n",
    "    train_accuracies.append(history.history['accuracy'][-1])\n",
    "    val_accuracies.append(history.history['val_accuracy'][-1])\n",
    "    \n",
    "plt.figure()\n",
    "plt.title(\"Accuracies vs Num GRU Units\")\n",
    "plt.xlabel(\"Num GRU Units\")\n",
    "plt.ylabel(\"Accuracy\")\n",
    "plt.plot(unit_vals, train_accuracies, label=\"Train\")\n",
    "plt.plot(unit_vals, val_accuracies, label=\"Val\")\n",
    "plt.legend()\n",
    "plt.show()\n",
    "\n",
    "plt.figure()\n",
    "plt.title(\"Losses vs Num GRU Units\")\n",
    "plt.xlabel(\"Num GRU Units\")\n",
    "plt.ylabel(\"Loss\")\n",
    "plt.plot(unit_vals, train_losses, label=\"Train\")\n",
    "plt.plot(unit_vals, val_losses, label=\"Val\")\n",
    "plt.legend()\n",
    "plt.show()"
   ]
  },
  {
   "cell_type": "markdown",
   "metadata": {},
   "source": [
    "Based on these plots, suggest a good value for the number of GRU units by filling out the cell below."
   ]
  },
  {
   "cell_type": "code",
   "execution_count": 98,
   "metadata": {},
   "outputs": [],
   "source": [
    "num_GRU_units = 500"
   ]
  },
  {
   "cell_type": "markdown",
   "metadata": {},
   "source": [
    "### 4) Evaluate"
   ]
  },
  {
   "cell_type": "markdown",
   "metadata": {},
   "source": [
    "Finally, train a model with the hyperparameter values that you have obtained and evaluate it on the test set! Report the test loss and accuracy."
   ]
  },
  {
   "cell_type": "code",
   "execution_count": 106,
   "metadata": {},
   "outputs": [
    {
     "name": "stdout",
     "output_type": "stream",
     "text": [
      "Epoch 1/3\n",
      "20/20 [==============================] - 1s 38ms/step - loss: 0.6944 - accuracy: 0.4803 - val_loss: 0.6931 - val_accuracy: 0.5316\n",
      "Epoch 2/3\n",
      "20/20 [==============================] - 1s 26ms/step - loss: 0.6929 - accuracy: 0.4961 - val_loss: 0.6931 - val_accuracy: 0.5316\n",
      "Epoch 3/3\n",
      "20/20 [==============================] - 1s 25ms/step - loss: 0.6906 - accuracy: 0.5118 - val_loss: 0.6940 - val_accuracy: 0.5063\n",
      "3/3 [==============================] - 0s 4ms/step - loss: 0.6921 - accuracy: 0.5250\n",
      "\n",
      "Test loss =  0.6920796632766724\n",
      "Test accuracy =  0.5249999761581421\n"
     ]
    }
   ],
   "source": [
    "x = Input(shape = (X_train.shape[1], X_train.shape[2]), name=\"Input\")\n",
    "layer1 = Dense(kappa, name=\"Layer1\")(x)\n",
    "layer2 = Activation(softmax, name=\"Softmax\")(layer1)\n",
    "bigru = Bidirectional(GRU(num_GRU_units, activation = 'relu', name=\"Bi-GRU\"))(layer2)\n",
    "pred = Dense(1, activation = 'sigmoid', name=\"Sigmoid\")(bigru)\n",
    "model = Model(inputs = x, outputs = pred)\n",
    "model.compile(optimizer=\"adam\", loss=\"binary_crossentropy\", metrics=[\"accuracy\"])\n",
    "model.fit(X_train, np.array(y_train), epochs=num_epochs, \n",
    "                        verbose=True, validation_data=(X_val, np.array(y_val)))\n",
    "\n",
    "loss, acc = model.evaluate(X_test, np.array(y_test))\n",
    "\n",
    "print()\n",
    "\n",
    "print(\"Test loss = \", loss)\n",
    "print(\"Test accuracy = \", acc)"
   ]
  },
  {
   "cell_type": "markdown",
   "metadata": {},
   "source": [
    "As you can see, our model is not doing particularly well on the test set so this method is probably not going to be very useful for price movement classification as it currently stands. Of course, there could be several reasons for the subpar performance, including but not limited to: insufficient training data, poor choice of model, poor quality of word embeddings, and bad choice of sequence length (5 days). Or perhaps, stock price classification/prediction isn't a viable goal, regardless of which neural network architecture we choose (also known asthe Random Walk Hypothesis for stock markets). Despite this unfortunate outcome, we hope that you learned something about RNNs and how they can be applied to a field like finance. Feel free to play around with these parameters to see if you can get a model worthy of use in the quantitative finance industry! "
   ]
  },
  {
   "cell_type": "markdown",
   "metadata": {},
   "source": [
    "## (Optional) Classify some more stocks!"
   ]
  },
  {
   "cell_type": "markdown",
   "metadata": {},
   "source": [
    "So classifying the stock price movement for `AAPL` didn't go so well but maybe that just has something to do with Apple's stock price being unpredictable. Let's try the next stock in our dataset: another big tech company, `AMZN`. We have loaded the data for you below and you can refer to the previous sections for help with implementing and training the model. "
   ]
  },
  {
   "cell_type": "code",
   "execution_count": 66,
   "metadata": {},
   "outputs": [],
   "source": [
    "prices_amzn = pd.read_csv('AMZN.csv')"
   ]
  },
  {
   "cell_type": "code",
   "execution_count": null,
   "metadata": {},
   "outputs": [],
   "source": []
  }
 ],
 "metadata": {
  "kernelspec": {
   "display_name": "Python 3",
   "language": "python",
   "name": "python3"
  },
  "language_info": {
   "codemirror_mode": {
    "name": "ipython",
    "version": 3
   },
   "file_extension": ".py",
   "mimetype": "text/x-python",
   "name": "python",
   "nbconvert_exporter": "python",
   "pygments_lexer": "ipython3",
   "version": "3.8.3"
  }
 },
 "nbformat": 4,
 "nbformat_minor": 4
}
